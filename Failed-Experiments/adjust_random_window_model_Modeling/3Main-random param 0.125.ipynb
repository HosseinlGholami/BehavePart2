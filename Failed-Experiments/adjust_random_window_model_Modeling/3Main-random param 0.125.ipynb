{
 "cells": [
  {
   "cell_type": "code",
   "execution_count": 1,
   "metadata": {},
   "outputs": [],
   "source": [
    "#in the name of god"
   ]
  },
  {
   "cell_type": "code",
   "execution_count": 2,
   "metadata": {},
   "outputs": [],
   "source": [
    "import pandas as pd \n",
    "import numpy as np\n",
    "from IPython.display import clear_output\n",
    "import time\n",
    "import pickle\n",
    "\n",
    "import matplotlib.pyplot as plt\n",
    "from matplotlib.cbook import flatten\n",
    "import matplotlib.cm as cm\n",
    "import matplotlib as matplotlib\n",
    "\n",
    "from fastdtw import fastdtw\n",
    "\n",
    "def color_map_color(value, cmap_name='coolwarm', vmin=0, vmax=10):\n",
    "    # norm = plt.Normalize(vmin, vmax)\n",
    "    norm = matplotlib.colors.Normalize(vmin=vmin, vmax=vmax)\n",
    "    cmap = cm.get_cmap(cmap_name)  # PiYG\n",
    "    rgb = cmap(norm(abs(value)))[:3]  # will return rgba, we take only first 3 so we get rgb\n",
    "    color = matplotlib.colors.rgb2hex(rgb)\n",
    "    return color\n",
    "cl=['r','g','b','c','m','y','k']\n",
    "color=dict()\n",
    "for i,el in enumerate(cl):\n",
    "    color.update({i:el})\n",
    "#extract the labels for clutering precision its for after clustering\n",
    "def time_convertor(x):\n",
    "    s,h,m=0,0,0\n",
    "    s=round(x%60,2)\n",
    "    m=int(x/60)\n",
    "    h=int(m/60)\n",
    "    m=m%60\n",
    "    time=str(h)+':'+str(m)+':'+str(s)\n",
    "    return pd.to_datetime('1970-01-01 '+time)\n",
    "\n",
    "\n",
    "# Display figures inline in Jupyter notebook\n",
    "import seaborn as sns\n",
    "# Use seaborn style defaults and set the default figure size\n",
    "sns.set(rc={'figure.figsize':(15, 5)})"
   ]
  },
  {
   "cell_type": "code",
   "execution_count": 3,
   "metadata": {},
   "outputs": [],
   "source": [
    "with open(\"normalized_data.txt\", \"rb\") as fp:\n",
    "        dfRaw = pickle.load(fp)\n",
    "        \n",
    "def get_label(number,df):\n",
    "    label_event_lenght=dict()\n",
    "    df=pd.read_csv(f'{number}\\\\groundTruth.csv')\n",
    "    df['length']=df.en-df.st\n",
    "    for event , dft in df.groupby('evento'):\n",
    "        if (event in label_event_lenght):\n",
    "            label_event_lenght.update({event : label_event_lenght[event]+list(dft.length) })\n",
    "        else:\n",
    "            label_event_lenght.update({event : list(dft.length)})\n",
    "\n",
    "    df['st_time']=df.apply(lambda x:time_convertor(x.st) ,axis=1 )\n",
    "    df['en_time']=df.apply(lambda x:time_convertor(x.en) ,axis=1 )\n",
    "    df=df.drop('st',1).drop('en',1).drop('length',1)\n",
    "    evented_label=list()\n",
    "    for i in range(len(df)):\n",
    "        evented_label.append((df.iloc[i][0],df.iloc[i][1],df.iloc[i][2]))\n",
    "    eve=pd.DataFrame(evented_label)\n",
    "    eve[3]=[f'evented_label_{number}' for x in evented_label]\n",
    "    return eve\n",
    "Ev=[get_label(dfRaw[x][0],dfRaw[x][1]) for x in range(len(dfRaw))]\n",
    "evented_label_All=pd.concat(Ev).reset_index().drop('index',1)\n",
    "\n",
    "window={226:['curva_direita_agressiva','curva_esquerda_agressiva','aceleracao_agressiva'],\n",
    "        126:['troca_faixa_direita_agressiva','troca_faixa_esquerda_agressiva'],\n",
    "        186:['freada_agressiva']\n",
    "       }\n"
   ]
  },
  {
   "cell_type": "code",
   "execution_count": 4,
   "metadata": {},
   "outputs": [],
   "source": [
    "#remove accl data\n",
    "df_gyr=[]\n",
    "for num,df in dfRaw:\n",
    "    df_gyr.append((num,df.drop(columns=['a-x', 'a-y','a-z'])))\n",
    "dfRaw=df_gyr.copy()"
   ]
  },
  {
   "cell_type": "code",
   "execution_count": 5,
   "metadata": {},
   "outputs": [
    {
     "name": "stdout",
     "output_type": "stream",
     "text": [
      "extraction  0.018723590266647237  % of  1  is complete\n"
     ]
    }
   ],
   "source": [
    "#Dont RUN this part\n",
    "#we should optimize M\n",
    "#lengh of random event\n",
    "import random\n",
    "random.seed(123)\n",
    "def TempEvent_genarator(df,L,i):\n",
    "    temp_event=list()\n",
    "    pointer=0\n",
    "    stop=False\n",
    "    #go on timeserise for event extraction\n",
    "    while stop!=True:\n",
    "        M=round(random.gauss(0.125,1)*L)\n",
    "        clear_output(wait=True)\n",
    "        pointer=pointer + M\n",
    "        l_min=pointer-int(L/2)\n",
    "        l_max=pointer+int(L/2)\n",
    "        if l_max<0:\n",
    "            l_max=L/2\n",
    "        if (l_min<0):\n",
    "            l_min=0\n",
    "        if (l_max>len(df)):\n",
    "            l_max=len(df)\n",
    "            stop=True\n",
    "        print('extraction ',l_max/len(df),' % of ',i,' is complete')\n",
    "        temp_event.append(df[int(l_min):int(l_max)])\n",
    "    return temp_event\n",
    "\n",
    "temp_event=list()\n",
    "for l,DF in enumerate([x[1] for x in dfRaw]):\n",
    "    te=list()\n",
    "    for i,lw in enumerate(window):\n",
    "        te.append((window[lw],TempEvent_genarator(DF,lw,i+1)))\n",
    "    temp_event.append(te)\n",
    "with open(\"temp_event_new_0125_gr.txt\", \"wb\") as fp:\n",
    "    pickle.dump(temp_event, fp)"
   ]
  },
  {
   "cell_type": "code",
   "execution_count": 6,
   "metadata": {},
   "outputs": [],
   "source": [
    "def has_overlap(A_start, A_end, B_start, B_end):\n",
    "    latest_start = max(A_start, B_start)\n",
    "    earliest_end = min(A_end, B_end)\n",
    "    return latest_start <= earliest_end\n",
    "\n",
    "def export_labels(tempevent,evented_label):\n",
    "    EvL=pd.DataFrame(evented_label)\n",
    "    Labels={\n",
    "          226:[],\n",
    "          126:[],\n",
    "          186:[],\n",
    "           }\n",
    "    for i,wind in enumerate(Labels):\n",
    "        label=['NAG' for x in tempevent[i][1]]\n",
    "        for name in tempevent[i][0]:\n",
    "            el=[(x[1],x[2]) for x in EvL.iloc if x[0]==name]\n",
    "            for j,te in enumerate(tempevent[i][1]):\n",
    "                    if len(te)!=0:\n",
    "                        sta =te.index[0]\n",
    "                        ena =te.index[-1]\n",
    "                        for stb,enb in el:\n",
    "                            if has_overlap(sta,ena,stb,enb):\n",
    "                                label[j]=name\n",
    "                    else:\n",
    "                        label[j]=\"NA\"\n",
    "                        \n",
    "        Labels[wind]=label\n",
    "    return Labels\n",
    "\n",
    "\n",
    "Data={\n",
    "      226:[],\n",
    "      126:[],\n",
    "      186:[],\n",
    "       }\n",
    "for i,temp in enumerate(temp_event):\n",
    "    TempEv={\n",
    "              226:[ x for x in temp_event[i][0][1] ],\n",
    "              126:[ x for x in temp_event[i][1][1] ],\n",
    "              186:[ x for x in temp_event[i][2][1] ],\n",
    "               }\n",
    "    Label=export_labels(temp_event[i],Ev[i])\n",
    "    #merge together\n",
    "    for wind in Data:\n",
    "        for j in range(len(TempEv[wind])):\n",
    "            Lb=Label[wind][j]\n",
    "            if Lb != 'NA':\n",
    "                Data[wind].append((Lb,TempEv[wind][j]))\n"
   ]
  },
  {
   "cell_type": "code",
   "execution_count": 7,
   "metadata": {},
   "outputs": [
    {
     "name": "stdout",
     "output_type": "stream",
     "text": [
      "disstance calculatoin  100.0  %  is complete\n",
      "431 min has time for calculaton distant\n"
     ]
    }
   ],
   "source": [
    "#dont run this part\n",
    "#calculate dist of Data from labdeled event\n",
    "t1=time.time()\n",
    "\n",
    "k,n=0,0\n",
    "num_event=dict(evented_label_All.groupby(0).size())\n",
    "for lenght in window:\n",
    "    for name in window[lenght]:\n",
    "        k=k+len(Data[lenght])*num_event[name]\n",
    "\n",
    "Data_DS={\n",
    "      226:[],\n",
    "      126:[],\n",
    "      186:[],\n",
    "       }\n",
    "\n",
    "for wind in Data:\n",
    "    for label,event in Data[wind]:\n",
    "         #---------for each Data-distance from events----------\n",
    "        Y=list()\n",
    "        for from_event,dfe in evented_label_All.groupby(0):\n",
    "            if from_event in window[wind]:\n",
    "                X=list()\n",
    "                #____for each event_distance from each label_____\n",
    "                for el in dfe.iloc:\n",
    "                    clear_output(wait=True)\n",
    "                    n=n+1\n",
    "                    print('disstance calculatoin ',round((n/k)*100,4),' %  is complete')\n",
    "                    if   el[3]=='evented_label_16':\n",
    "                        X.append(fastdtw(event,dfRaw[0][1][el[1]:el[2]])[0])\n",
    "                    elif el[3]=='evented_label_17':\n",
    "                        X.append(fastdtw(event,dfRaw[1][1][el[1]:el[2]])[0])\n",
    "                    elif el[3]=='evented_label_20':\n",
    "                        X.append(fastdtw(event,dfRaw[2][1][el[1]:el[2]])[0])\n",
    "                    elif el[3]=='evented_label_21':\n",
    "                        X.append(fastdtw(event,dfRaw[3][1][el[1]:el[2]])[0])\n",
    "                #_________________________________________________\n",
    "                Y.append((from_event,X))\n",
    "        Data_DS[wind].append((label,Y))\n",
    "        #------------------------------------------------------\n",
    "with open(\"Disstance_new_0125_gr.txt\", \"wb\") as fp:\n",
    "    pickle.dump(Data_DS, fp)\n",
    "    \n",
    "t2=time.time()\n",
    "print(round((t2-t1)/60) ,'min has time for calculaton distant')"
   ]
  },
  {
   "cell_type": "code",
   "execution_count": 8,
   "metadata": {},
   "outputs": [],
   "source": [
    "#prepare dataset for labeling\n",
    "TrainData=dict()\n",
    "for win in Data_DS:\n",
    "    x=Data_DS[win]\n",
    "    dumy_list=list()\n",
    "    for events in x:\n",
    "        dumy_dict=dict()\n",
    "        dumy_dict.update({'label':events[0]})\n",
    "        for name , event in events[1]:\n",
    "            for tag,number in enumerate(event):\n",
    "                dumy_dict.update({name+str(tag):number})\n",
    "        dumy_list.append(dumy_dict)\n",
    "    TrainData.update({win:pd.DataFrame(dumy_list)})"
   ]
  },
  {
   "cell_type": "code",
   "execution_count": 9,
   "metadata": {},
   "outputs": [
    {
     "name": "stdout",
     "output_type": "stream",
     "text": [
      "disstance calculatoin  100.0  %  is complete\n",
      "101 min has time for calculaton Model\n"
     ]
    }
   ],
   "source": [
    "#dont run this part\n",
    "from copy import deepcopy\n",
    "import six\n",
    "import sys\n",
    "sys.modules['sklearn.externals.six'] = six\n",
    "from id3 import Id3Estimator, export_text\n",
    "from sklearn.metrics import accuracy_score, classification_report,precision_recall_fscore_support\n",
    "from sklearn.model_selection import train_test_split\n",
    "\n",
    "t1=time.time()\n",
    "n,k=0,19*5*3\n",
    "\n",
    "Result={\n",
    "      226:[],\n",
    "      126:[],\n",
    "      186:[],\n",
    "       }\n",
    "for wid in Result:\n",
    "    data=TrainData[wid].drop('label',1)\n",
    "    label=TrainData[wid].label\n",
    "    X_train, X_test, y_train, y_test = train_test_split(data, label, test_size=0.3, random_state=123)\n",
    "    for Max_depth in range(1,20):\n",
    "        estimator = Id3Estimator(max_depth=Max_depth, min_samples_split=1, prune=True,\n",
    "                        gain_ratio=True, min_entropy_decrease=0, is_repeating=True)\n",
    "        #run it in itaraion for the best trees\n",
    "        NUMBER_OF_TEST=5\n",
    "        temp=list()\n",
    "        for NT in range(NUMBER_OF_TEST):\n",
    "            clear_output(wait=True)\n",
    "            n=n+1\n",
    "            print('disstance calculatoin ',round((n/k)*100,4),' %  is complete')\n",
    "            estimator.fit(X_train,y_train , check_input=True)\n",
    "            ACC=precision_recall_fscore_support(y_train, estimator.predict(X_train),average='macro')[2]\n",
    "            temp.append((ACC,deepcopy(estimator)))\n",
    "        temp_index=[(x[0],i) for i,x in enumerate(temp)]\n",
    "        temp_index.sort()\n",
    "        Acc=temp[temp_index[-1][1]][0]\n",
    "        estimator=temp[temp_index[-1][1]][1]\n",
    "        Result[wid].append(((X_train, X_test, y_train, y_test),deepcopy(estimator)))\n",
    "\n",
    "with open(\"Model_new_0125_gr.txt\", \"wb\") as fp:\n",
    "    pickle.dump(Result, fp)\n",
    "t2=time.time()\n",
    "print(round((t2-t1)/60) ,'min has time for calculaton Model')"
   ]
  },
  {
   "cell_type": "code",
   "execution_count": 10,
   "metadata": {},
   "outputs": [
    {
     "data": {
      "image/png": "[encoded data removed]",
      "text/plain": [
       "<Figure size 1080x360 with 1 Axes>"
      ]
     },
     "metadata": {},
     "output_type": "display_data"
    },
    {
     "data": {
      "image/png": "[encoded data removed]",
      "text/plain": [
       "<Figure size 1080x360 with 1 Axes>"
      ]
     },
     "metadata": {},
     "output_type": "display_data"
    },
    {
     "data": {
      "image/png": "[encoded data removed]",
      "text/plain": [
       "<Figure size 1080x360 with 1 Axes>"
      ]
     },
     "metadata": {},
     "output_type": "display_data"
    }
   ],
   "source": [
    "import warnings\n",
    "warnings.filterwarnings('ignore')\n",
    "for wid in window:\n",
    "    X=range(1,18)\n",
    "    Y=['train','test']\n",
    "    test,train=[],[]\n",
    "    for max_depth in X:\n",
    "        es=Result[wid][max_depth-1][1]\n",
    "        X_tr, X_te, y_tr, y_te=Result[wid][max_depth-1][0]\n",
    "        train.append(precision_recall_fscore_support(y_tr, es.predict(X_tr),average='macro')[2])\n",
    "        test.append(precision_recall_fscore_support(y_te, es.predict(X_te),average='macro')[2])\n",
    "\n",
    "    fig, ax = plt.subplots()\n",
    "    for Lambda,chart in enumerate([train,test]):\n",
    "        ax.plot(X,chart, linestyle='-', linewidth=2,c=color_map_color(Lambda+1),label=str(Y[Lambda]))\n",
    "    ax.set_title(wid)\n",
    "    ax.legend();\n",
    "    plt.show() "
   ]
  },
  {
   "cell_type": "code",
   "execution_count": 11,
   "metadata": {},
   "outputs": [
    {
     "name": "stdout",
     "output_type": "stream",
     "text": [
      "----------------------------------------------------\n",
      "-----------------------window is 226----------------\n",
      "----------------------------------------------------\n",
      "                          precision    recall  f1-score   support\n",
      "\n",
      "                     NAG       0.96      0.99      0.98      4050\n",
      "    aceleracao_agressiva       0.80      0.52      0.63       129\n",
      " curva_direita_agressiva       0.96      0.71      0.82       128\n",
      "curva_esquerda_agressiva       0.96      0.74      0.84       200\n",
      "\n",
      "                accuracy                           0.96      4507\n",
      "               macro avg       0.92      0.74      0.82      4507\n",
      "            weighted avg       0.96      0.96      0.96      4507\n",
      "\n",
      "----------------------------------------------------\n",
      "-----------------------window is 126----------------\n",
      "----------------------------------------------------\n",
      "                                precision    recall  f1-score   support\n",
      "\n",
      "                           NAG       0.99      1.00      1.00      8609\n",
      " troca_faixa_direita_agressiva       1.00      0.36      0.53        50\n",
      "troca_faixa_esquerda_agressiva       0.80      0.53      0.64        45\n",
      "\n",
      "                      accuracy                           0.99      8704\n",
      "                     macro avg       0.93      0.63      0.72      8704\n",
      "                  weighted avg       0.99      0.99      0.99      8704\n",
      "\n",
      "----------------------------------------------------\n",
      "-----------------------window is 186----------------\n",
      "----------------------------------------------------\n",
      "                  precision    recall  f1-score   support\n",
      "\n",
      "             NAG       0.99      1.00      1.00      7203\n",
      "freada_agressiva       0.83      0.28      0.42        71\n",
      "\n",
      "        accuracy                           0.99      7274\n",
      "       macro avg       0.91      0.64      0.71      7274\n",
      "    weighted avg       0.99      0.99      0.99      7274\n",
      "\n"
     ]
    }
   ],
   "source": [
    "#find the brake point\n",
    "Max_depth ={226:12,\n",
    "            126:5,\n",
    "            186:5,}\n",
    "\n",
    "Model={}\n",
    "for wid in Max_depth:\n",
    "    data=TrainData[wid].drop('label',1)\n",
    "    label=TrainData[wid].label\n",
    "    estimator = Id3Estimator(max_depth=Max_depth[wid], min_samples_split=1, prune=True,\n",
    "                    gain_ratio=True, min_entropy_decrease=0, is_repeating=True)\n",
    "    #run it in itaraion for the best trees\n",
    "    NUMBER_OF_TEST=50\n",
    "    temp=list()\n",
    "    for NT in range(NUMBER_OF_TEST):\n",
    "        estimator.fit(data,label , check_input=True)\n",
    "        ACC=precision_recall_fscore_support(label, estimator.predict(data),average='macro')[2]\n",
    "        temp.append((ACC,deepcopy(estimator)))\n",
    "    temp_index=[(x[0],i) for i,x in enumerate(temp)]\n",
    "    temp_index.sort()\n",
    "    Acc=temp[temp_index[-1][1]][0]\n",
    "    estimator=temp[temp_index[-1][1]][1]\n",
    "    Model[wid]=(deepcopy(estimator),Max_depth[wid])\n",
    "\n",
    "for wid in Model:\n",
    "    data=TrainData[wid].drop('label',1)\n",
    "    label=TrainData[wid].label\n",
    "    print('----------------------------------------------------')\n",
    "    print(f'-----------------------window is {wid}----------------')\n",
    "    print('----------------------------------------------------')\n",
    "    \n",
    "    print(classification_report(label, Model[wid][0].predict(data)))\n",
    "\n",
    "with open(\"Model_0125_gr.txt\", \"wb\") as fp:\n",
    "    pickle.dump(Model, fp)"
   ]
  },
  {
   "cell_type": "code",
   "execution_count": null,
   "metadata": {},
   "outputs": [],
   "source": []
  },
  {
   "cell_type": "code",
   "execution_count": null,
   "metadata": {},
   "outputs": [],
   "source": []
  },
  {
   "cell_type": "code",
   "execution_count": null,
   "metadata": {},
   "outputs": [],
   "source": []
  },
  {
   "cell_type": "code",
   "execution_count": null,
   "metadata": {},
   "outputs": [],
   "source": []
  },
  {
   "cell_type": "code",
   "execution_count": null,
   "metadata": {},
   "outputs": [],
   "source": []
  },
  {
   "cell_type": "code",
   "execution_count": null,
   "metadata": {},
   "outputs": [],
   "source": []
  },
  {
   "cell_type": "code",
   "execution_count": null,
   "metadata": {},
   "outputs": [],
   "source": []
  },
  {
   "cell_type": "code",
   "execution_count": null,
   "metadata": {},
   "outputs": [],
   "source": []
  },
  {
   "cell_type": "code",
   "execution_count": null,
   "metadata": {},
   "outputs": [],
   "source": []
  },
  {
   "cell_type": "code",
   "execution_count": null,
   "metadata": {},
   "outputs": [],
   "source": []
  },
  {
   "cell_type": "code",
   "execution_count": null,
   "metadata": {},
   "outputs": [],
   "source": [
    "Max_depth=7\n",
    "wid=186\n",
    "\n",
    "label=TrainData[wid].label\n",
    "data=TrainData[wid].drop('label',1)\n",
    "\n",
    "Acc=Result[wid][Max_depth-1][0]\n",
    "estimator=Result[wid][Max_depth-1][1]\n",
    "print(Acc)\n",
    "print(classification_report(label, estimator.predict(data)))\n",
    "#print(export_text(estimator.tree_))"
   ]
  },
  {
   "cell_type": "code",
   "execution_count": null,
   "metadata": {},
   "outputs": [],
   "source": [
    "Max_depth=11\n",
    "wid=226\n",
    "\n",
    "label=TrainData[wid].label\n",
    "data=TrainData[wid].drop('label',1)\n",
    "\n",
    "Acc=Result[wid][Max_depth-1][0]\n",
    "estimator=Result[wid][Max_depth-1][1]\n",
    "print(Acc)\n",
    "print(classification_report(label, estimator.predict(data)))\n",
    "#print(export_text(estimator.tree_))"
   ]
  },
  {
   "cell_type": "code",
   "execution_count": null,
   "metadata": {},
   "outputs": [],
   "source": []
  },
  {
   "cell_type": "code",
   "execution_count": null,
   "metadata": {},
   "outputs": [],
   "source": []
  },
  {
   "cell_type": "code",
   "execution_count": null,
   "metadata": {},
   "outputs": [],
   "source": []
  },
  {
   "cell_type": "code",
   "execution_count": null,
   "metadata": {},
   "outputs": [],
   "source": []
  },
  {
   "cell_type": "code",
   "execution_count": null,
   "metadata": {},
   "outputs": [],
   "source": []
  },
  {
   "cell_type": "code",
   "execution_count": null,
   "metadata": {},
   "outputs": [],
   "source": []
  },
  {
   "cell_type": "code",
   "execution_count": null,
   "metadata": {},
   "outputs": [],
   "source": []
  },
  {
   "cell_type": "code",
   "execution_count": null,
   "metadata": {},
   "outputs": [],
   "source": []
  },
  {
   "cell_type": "code",
   "execution_count": null,
   "metadata": {},
   "outputs": [],
   "source": []
  },
  {
   "cell_type": "code",
   "execution_count": null,
   "metadata": {},
   "outputs": [],
   "source": []
  },
  {
   "cell_type": "code",
   "execution_count": null,
   "metadata": {},
   "outputs": [],
   "source": []
  },
  {
   "cell_type": "code",
   "execution_count": null,
   "metadata": {},
   "outputs": [],
   "source": []
  },
  {
   "cell_type": "code",
   "execution_count": null,
   "metadata": {},
   "outputs": [],
   "source": []
  },
  {
   "cell_type": "code",
   "execution_count": null,
   "metadata": {},
   "outputs": [],
   "source": []
  },
  {
   "cell_type": "code",
   "execution_count": null,
   "metadata": {},
   "outputs": [],
   "source": []
  },
  {
   "cell_type": "code",
   "execution_count": null,
   "metadata": {},
   "outputs": [],
   "source": []
  },
  {
   "cell_type": "code",
   "execution_count": null,
   "metadata": {},
   "outputs": [],
   "source": []
  },
  {
   "cell_type": "code",
   "execution_count": null,
   "metadata": {},
   "outputs": [],
   "source": []
  },
  {
   "cell_type": "code",
   "execution_count": null,
   "metadata": {},
   "outputs": [],
   "source": []
  }
 ],
 "metadata": {
  "kernelspec": {
   "display_name": "Python 3",
   "language": "python",
   "name": "python3"
  },
  "language_info": {
   "codemirror_mode": {
    "name": "ipython",
    "version": 3
   },
   "file_extension": ".py",
   "mimetype": "text/x-python",
   "name": "python",
   "nbconvert_exporter": "python",
   "pygments_lexer": "ipython3",
   "version": "3.7.6"
  }
 },
 "nbformat": 4,
 "nbformat_minor": 4
}

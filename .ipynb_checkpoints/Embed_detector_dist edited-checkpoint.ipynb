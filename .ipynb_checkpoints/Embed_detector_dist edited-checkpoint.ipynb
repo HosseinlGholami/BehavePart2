{
 "cells": [
  {
   "cell_type": "code",
   "execution_count": 1,
   "metadata": {},
   "outputs": [],
   "source": [
    "#in the name of GOD"
   ]
  },
  {
   "cell_type": "code",
   "execution_count": 2,
   "metadata": {},
   "outputs": [],
   "source": [
    "import pandas as pd \n",
    "import numpy as np\n",
    "from IPython.display import clear_output\n",
    "import time\n",
    "import pickle\n",
    "\n",
    "import matplotlib.pyplot as plt\n",
    "from matplotlib.cbook import flatten\n",
    "import matplotlib.cm as cm\n",
    "import matplotlib as matplotlib\n",
    "\n",
    "from fastdtw import fastdtw\n",
    "\n",
    "def color_map_color(value, cmap_name='coolwarm', vmin=0, vmax=10):\n",
    "    # norm = plt.Normalize(vmin, vmax)\n",
    "    norm = matplotlib.colors.Normalize(vmin=vmin, vmax=vmax)\n",
    "    cmap = cm.get_cmap(cmap_name)  # PiYG\n",
    "    rgb = cmap(norm(abs(value)))[:3]  # will return rgba, we take only first 3 so we get rgb\n",
    "    color = matplotlib.colors.rgb2hex(rgb)\n",
    "    return color\n",
    "cl=['r','g','b','c','m','y','k']\n",
    "color=dict()\n",
    "for i,el in enumerate(cl):\n",
    "    color.update({i:el})\n",
    "#extract the labels for clutering precision its for after clustering\n",
    "def time_convertor(x):\n",
    "    s,h,m=0,0,0\n",
    "    s=round(x%60,2)\n",
    "    m=int(x/60)\n",
    "    h=int(m/60)\n",
    "    m=m%60\n",
    "    time=str(h)+':'+str(m)+':'+str(s)\n",
    "    return pd.to_datetime('1970-01-01 '+time)\n",
    "\n",
    "\n",
    "# Display figures inline in Jupyter notebook\n",
    "import seaborn as sns\n",
    "# Use seaborn style defaults and set the default figure size\n",
    "sns.set(rc={'figure.figsize':(15, 5)})"
   ]
  },
  {
   "cell_type": "code",
   "execution_count": 3,
   "metadata": {},
   "outputs": [],
   "source": [
    "#data_read\n",
    "#prepare Dataset gyroscope\n",
    "dfg=pd.read_csv('16\\giroscopio_terra.csv')\n",
    "dfg['ts']=pd.to_datetime(dfg.apply(lambda x:(round((x.uptimeNanos-dfg.uptimeNanos[0])/1000000)*1000000),axis=1))\n",
    "dm=dfg['ts']\n",
    "dfg=dfg.drop('uptimeNanos',1).drop('timestamp',1)\n",
    "dfg=dfg.set_index('ts').rename(columns={'x': 'g-x','y': 'g-y','z': 'g-z'})\n",
    "#prepare Dataset accelarator\n",
    "dfa=pd.read_csv('16\\\\acelerometro_terra.csv')\n",
    "dfa['ts']=dm\n",
    "dfa=dfa.drop('uptimeNanos',1).drop('timestamp',1)\n",
    "dfa=dfa.set_index('ts').rename(columns={'x': 'a-x','y': 'a-y','z': 'a-z'})\n",
    "df1 = pd.concat([dfa, dfg], axis=1, join='outer')\n",
    "#prepare Dataset gyroscope\n",
    "dfg=pd.read_csv('17\\giroscopio_terra.csv')\n",
    "dfg['ts']=pd.to_datetime(dfg.apply(lambda x:(round((x.uptimeNanos-dfg.uptimeNanos[0])/1000000)*1000000),axis=1))\n",
    "dm=dfg['ts']\n",
    "dfg=dfg.drop('uptimeNanos',1).drop('timestamp',1)\n",
    "dfg=dfg.set_index('ts').rename(columns={'x': 'g-x','y': 'g-y','z': 'g-z'})\n",
    "#prepare Dataset accelarator\n",
    "dfa=pd.read_csv('17\\\\acelerometro_terra.csv')\n",
    "dfa['ts']=dm\n",
    "dfa=dfa.drop('uptimeNanos',1).drop('timestamp',1)\n",
    "dfa=dfa.set_index('ts').rename(columns={'x': 'a-x','y': 'a-y','z': 'a-z'})\n",
    "df2 = pd.concat([dfa, dfg], axis=1, join='outer')\n",
    "#prepare Dataset gyroscope\n",
    "dfg=pd.read_csv('20\\\\giroscopio_terra.csv')\n",
    "dfg['ts']=pd.to_datetime(dfg.apply(lambda x:(round((x.uptimeNanos-dfg.uptimeNanos[0])/1000000)*1000000),axis=1))\n",
    "dm=dfg['ts']\n",
    "dfg=dfg.drop('uptimeNanos',1).drop('timestamp',1)\n",
    "dfg=dfg.set_index('ts').rename(columns={'x': 'g-x','y': 'g-y','z': 'g-z'})\n",
    "#prepare Dataset accelarator\n",
    "dfa=pd.read_csv('20\\\\acelerometro_terra.csv')\n",
    "dfa['ts']=dm\n",
    "dfa=dfa.drop('uptimeNanos',1).drop('timestamp',1)\n",
    "dfa=dfa.set_index('ts').rename(columns={'x': 'a-x','y': 'a-y','z': 'a-z'})\n",
    "df3 = pd.concat([dfa, dfg], axis=1, join='outer')\n",
    "#prepare Dataset gyroscope\n",
    "dfg=pd.read_csv('21\\giroscopio_terra.csv')\n",
    "dfg['ts']=pd.to_datetime(dfg.apply(lambda x:(round((x.uptimeNanos-dfg.uptimeNanos[0])/1000000)*1000000),axis=1))\n",
    "dm=dfg['ts']\n",
    "dfg=dfg.drop('uptimeNanos',1).drop('timestamp',1)\n",
    "dfg=dfg.set_index('ts').rename(columns={'x': 'g-x','y': 'g-y','z': 'g-z'})\n",
    "#prepare Dataset accelarator\n",
    "dfa=pd.read_csv('21\\\\acelerometro_terra.csv')\n",
    "dfa['ts']=dm\n",
    "dfa=dfa.drop('uptimeNanos',1).drop('timestamp',1)\n",
    "dfa=dfa.set_index('ts').rename(columns={'x': 'a-x','y': 'a-y','z': 'a-z'})\n",
    "df4 = pd.concat([dfa, dfg], axis=1, join='outer')"
   ]
  },
  {
   "cell_type": "code",
   "execution_count": 4,
   "metadata": {},
   "outputs": [],
   "source": [
    "label_event_lenght=dict()\n",
    "#prepare Labeled dataset on 16\n",
    "dfl=pd.read_csv('16\\\\groundTruth.csv')\n",
    "dfl['length']=dfl.en-dfl.st\n",
    "for event , dft in dfl.groupby('evento'):\n",
    "    if (event in label_event_lenght):\n",
    "        label_event_lenght.update({event : label_event_lenght[event]+list(dft.length) })\n",
    "    else:\n",
    "        label_event_lenght.update({event : list(dft.length)})\n",
    "        \n",
    "dfl['st_time']=dfl.apply(lambda x:time_convertor(x.st) ,axis=1 )\n",
    "dfl['en_time']=dfl.apply(lambda x:time_convertor(x.en) ,axis=1 )\n",
    "dfl=dfl.drop('st',1).drop('en',1).drop('length',1)\n",
    "evented_label_1=list()\n",
    "for i in range(len(dfl)):\n",
    "    evented_label_1.append((dfl.iloc[i][0],dfl.iloc[i][1],dfl.iloc[i][2]))\n",
    "#prepare Labeled dataset on 17\n",
    "dfl=pd.read_csv('17\\\\groundTruth.csv')\n",
    "dfl['length']=dfl.en-dfl.st\n",
    "for event , dft in dfl.groupby('evento'):\n",
    "    if (event in label_event_lenght):\n",
    "        label_event_lenght.update({event : label_event_lenght[event]+list(dft.length) })\n",
    "    else:\n",
    "        label_event_lenght.update({event : list(dft.length)})\n",
    "\n",
    "dfl['st_time']=dfl.apply(lambda x:time_convertor(x.st) ,axis=1 )\n",
    "dfl['en_time']=dfl.apply(lambda x:time_convertor(x.en) ,axis=1 )\n",
    "dfl=dfl.drop('st',1).drop('en',1).drop('length',1)\n",
    "evented_label_2=list()\n",
    "for i in range(len(dfl)):\n",
    "    evented_label_2.append((dfl.iloc[i][0],dfl.iloc[i][1],dfl.iloc[i][2]))\n",
    "#prepare Labeled dataset on 20\n",
    "dfl=pd.read_csv('20\\\\groundTruth.csv')\n",
    "dfl['length']=dfl.en-dfl.st\n",
    "for event , dft in dfl.groupby('evento'):\n",
    "    if (event in label_event_lenght):\n",
    "        label_event_lenght.update({event : label_event_lenght[event]+list(dft.length) })\n",
    "    else:\n",
    "        label_event_lenght.update({event : list(dft.length)})\n",
    "\n",
    "dfl['st_time']=dfl.apply(lambda x:time_convertor(x.st) ,axis=1 )\n",
    "dfl['en_time']=dfl.apply(lambda x:time_convertor(x.en) ,axis=1 )\n",
    "dfl=dfl.drop('st',1).drop('en',1).drop('length',1)\n",
    "evented_label_3=list()\n",
    "for i in range(len(dfl)):\n",
    "    evented_label_3.append((dfl.iloc[i][0],dfl.iloc[i][1],dfl.iloc[i][2]))\n",
    "#prepare Labeled dataset on 21\n",
    "dfl=pd.read_csv('21\\\\groundTruth.csv')\n",
    "dfl['length']=dfl.en-dfl.st\n",
    "for event , dft in dfl.groupby('evento'):\n",
    "    if (event in label_event_lenght):\n",
    "        label_event_lenght.update({event : label_event_lenght[event]+list(dft.length) })\n",
    "    else:\n",
    "        label_event_lenght.update({event : list(dft.length)})\n",
    "dfl['st_time']=dfl.apply(lambda x:time_convertor(x.st) ,axis=1 )\n",
    "dfl['en_time']=dfl.apply(lambda x:time_convertor(x.en) ,axis=1 )\n",
    "dfl=dfl.drop('st',1).drop('en',1).drop('length',1)\n",
    "evented_label_4=list()\n",
    "for i in range(len(dfl)):\n",
    "    evented_label_4.append((dfl.iloc[i][0],dfl.iloc[i][1],dfl.iloc[i][2]))"
   ]
  },
  {
   "cell_type": "code",
   "execution_count": 5,
   "metadata": {},
   "outputs": [],
   "source": [
    "#eve1=pd.DataFrame(evented_label_1)\n",
    "#eve1[3]=['evented_label_1' for x in evented_label_1]\n",
    "\n",
    "eve2=pd.DataFrame(evented_label_2)\n",
    "eve2[3]=['evented_label_2' for x in evented_label_2]\n",
    "\n",
    "eve3=pd.DataFrame(evented_label_3)\n",
    "eve3[3]=['evented_label_3' for x in evented_label_3]\n",
    "\n",
    "eve4=pd.DataFrame(evented_label_4)\n",
    "eve4[3]=['evented_label_4' for x in evented_label_4]\n",
    "\n",
    "evented_label=pd.concat([eve2,eve3,eve4])"
   ]
  },
  {
   "cell_type": "code",
   "execution_count": 6,
   "metadata": {},
   "outputs": [
    {
     "data": {
      "text/plain": [
       "[('curva_direita_agressiva', 225),\n",
       " ('curva_esquerda_agressiva', 225),\n",
       " ('evento_nao_agressivo', 225),\n",
       " ('troca_faixa_direita_agressiva', 125),\n",
       " ('aceleracao_agressiva', 245),\n",
       " ('freada_agressiva', 185),\n",
       " ('troca_faixa_esquerda_agressiva', 120)]"
      ]
     },
     "execution_count": 6,
     "metadata": {},
     "output_type": "execute_result"
    }
   ],
   "source": [
    "rate=(df2.index[6]-df3.index[5]).total_seconds()\n",
    "window_list=list()\n",
    "for event in label_event_lenght:\n",
    "    window_list.append((event,round(max(label_event_lenght[event])/rate)))\n",
    "window_list"
   ]
  },
  {
   "cell_type": "code",
   "execution_count": 7,
   "metadata": {},
   "outputs": [],
   "source": [
    "#supervised\n",
    "window={226:['curva_direita_agressiva','curva_esquerda_agressiva','aceleracao_agressiva'],\n",
    "        126:['troca_faixa_direita_agressiva','troca_faixa_esquerda_agressiva'],\n",
    "        186:['freada_agressiva']\n",
    "       }"
   ]
  },
  {
   "cell_type": "code",
   "execution_count": 8,
   "metadata": {},
   "outputs": [],
   "source": [
    "with open(\"EM_tmp_on16.txt\", \"rb\") as fp:\n",
    "    temp_event = pickle.load(fp)"
   ]
  },
  {
   "cell_type": "code",
   "execution_count": 9,
   "metadata": {},
   "outputs": [
    {
     "name": "stdout",
     "output_type": "stream",
     "text": [
      "disstance calculatoin  100.0  %  is complete\n",
      "41 min has time for calculaton distant\n"
     ]
    }
   ],
   "source": [
    "#calculate tempevnt with labdeled event\n",
    "Dum=evented_label.groupby(0).size()\n",
    "n=0\n",
    "k=0\n",
    "t1=time.time()\n",
    "for L , AEV in temp_event:\n",
    "    for i in L: \n",
    "        k=k+len(AEV)*Dum[i]\n",
    "\n",
    "EVENT_DS=dict()\n",
    "for L , AEV in temp_event:\n",
    "    for eve_name in L:\n",
    "        Y=list()\n",
    "        for EV in AEV:\n",
    "            X=list()\n",
    "            for eve,dfe in evented_label.groupby(0):\n",
    "                if eve==eve_name:\n",
    "                    for el in dfe.iloc:\n",
    "                        clear_output(wait=True)\n",
    "                        n=n+1\n",
    "                        print('disstance calculatoin ',round((n/k)*100,4),' %  is complete')\n",
    "                        if   el[3]=='evented_label_1':\n",
    "                            X.append(fastdtw(EV,df1[el[1]:el[2]])[0])\n",
    "                        elif el[3]=='evented_label_2':\n",
    "                            X.append(fastdtw(EV,df2[el[1]:el[2]])[0])\n",
    "                        elif el[3]=='evented_label_3':\n",
    "                            X.append(fastdtw(EV,df3[el[1]:el[2]])[0])\n",
    "                        elif el[3]=='evented_label_4':\n",
    "                            X.append(fastdtw(EV,df4[el[1]:el[2]])[0])\n",
    "            Y.append(X)\n",
    "        EVENT_DS.update({eve_name:Y})\n",
    "\n",
    "t2=time.time()\n",
    "print(round((t2-t1)/60) ,'min has time for calculaton distant')\n",
    "\n",
    "with open(\"EM_DIS_on161.txt\", \"wb\") as fp:\n",
    "    pickle.dump(EVENT_DS, fp)\n"
   ]
  },
  {
   "cell_type": "code",
   "execution_count": 9,
   "metadata": {},
   "outputs": [],
   "source": [
    "with open(\"EM_DIS_on161.txt\", \"rb\") as fp:\n",
    "    EVENT_DS = pickle.load(fp)"
   ]
  },
  {
   "cell_type": "code",
   "execution_count": 10,
   "metadata": {},
   "outputs": [
    {
     "data": {
      "text/plain": [
       "dict_keys(['curva_direita_agressiva', 'curva_esquerda_agressiva', 'aceleracao_agressiva', 'troca_faixa_direita_agressiva', 'troca_faixa_esquerda_agressiva', 'freada_agressiva'])"
      ]
     },
     "execution_count": 10,
     "metadata": {},
     "output_type": "execute_result"
    }
   ],
   "source": [
    "EVENT_DS.keys()"
   ]
  },
  {
   "cell_type": "code",
   "execution_count": 11,
   "metadata": {},
   "outputs": [],
   "source": [
    "#make it mean for each event from labeld \n",
    "med=dict()\n",
    "for eve in EVENT_DS:\n",
    "    x=list()\n",
    "    for ev in EVENT_DS[eve]:\n",
    "        x.append(np.mean(ev))\n",
    "    med.update({eve:x})\n",
    "\n",
    "#export relevent with thease two parameter\n",
    "def export_relevent_index(name,threshold=1,window=10):\n",
    "    X=med[name].copy()\n",
    "    X.sort()\n",
    "    relevent=list()\n",
    "    dfr=[X[i+1]-X[i] for i in range(len(X)-1)]\n",
    "    for i,el in enumerate(X):\n",
    "        Criterion=np.mean(dfr[i:i+window])\n",
    "        if Criterion>threshold:\n",
    "            relevent.append(el)\n",
    "        else:\n",
    "            break\n",
    "    return [med[name].index(x)for x in relevent]\n",
    "\n",
    "indexes=dict()\n",
    "for name in EVENT_DS:\n",
    "    indexes.update({name:export_relevent_index(name)})"
   ]
  },
  {
   "cell_type": "code",
   "execution_count": 12,
   "metadata": {},
   "outputs": [
    {
     "name": "stdout",
     "output_type": "stream",
     "text": [
      "11 event has extract\n"
     ]
    }
   ],
   "source": [
    "def has_overlap(A_start, A_end, B_start, B_end):\n",
    "    latest_start = max(A_start, B_start)\n",
    "    earliest_end = min(A_end, B_end)\n",
    "    return latest_start <= earliest_end\n",
    "\n",
    "Done=list()\n",
    "for name in indexes:\n",
    "    if name in {x[0] for x in evented_label_1}:\n",
    "        for i in range(0,3):\n",
    "            if name in temp_event[i][0]:\n",
    "                for Index in indexes[name]:\n",
    "                    sta=temp_event[i][1][Index].index[0]\n",
    "                    ena =temp_event[i][1][Index].index[-1]\n",
    "                    el=[(j,x[1],x[2]) for j,x in enumerate(evented_label_1) if x[0]==name]\n",
    "                    for jj,stb,enb in el:\n",
    "                        if has_overlap(sta,ena,stb,enb):\n",
    "                            Done.append((name,jj,Index))\n",
    "print(len(Done),'event has extract')"
   ]
  },
  {
   "cell_type": "code",
   "execution_count": 18,
   "metadata": {},
   "outputs": [
    {
     "name": "stdout",
     "output_type": "stream",
     "text": [
      "accuracy is :  91.66666666666666\n"
     ]
    }
   ],
   "source": [
    "events=[x[2] for x in Done if x[0]=='curva_direita_agressiva']\n",
    "try:\n",
    "    num=indexes['curva_direita_agressiva'].index(events[-1])\n",
    "except:\n",
    "    pass\n",
    "my_pridict=indexes['curva_direita_agressiva'][0:num]\n",
    "\n",
    "accuracy=len(events)/len(my_pridict)\n",
    "print('accuracy is : ',accuracy*100)"
   ]
  },
  {
   "cell_type": "markdown",
   "metadata": {},
   "source": [
    "now we should cheack to in wich case we can have the best accuracy"
   ]
  },
  {
   "cell_type": "code",
   "execution_count": 27,
   "metadata": {},
   "outputs": [
    {
     "name": "stdout",
     "output_type": "stream",
     "text": [
      "threshold is :  4.8\n",
      "curva_direita_agressiva\n",
      "accuracy: 0.9090909090909091 \n",
      " my predict     [18, 19, 85, 86, 524, 525, 751, 752, 876, 877, 908] \n",
      " true predict : [18, 19, 85, 86, 524, 525, 751, 752, 876, 877]\n",
      " comprehensivity accuracy:  1.0 \n",
      " predicted events: [1, 3, 8, 10, 11] \n",
      " real events:      [1, 3, 8, 10, 11]\n"
     ]
    }
   ],
   "source": [
    "threshold=4.8\n",
    "indexes=dict()\n",
    "for name in EVENT_DS:\n",
    "    indexes.update({name:export_relevent_index(name,threshold,window=10)})\n",
    "Done=list()\n",
    "for name in indexes:\n",
    "    if name in {x[0] for x in evented_label_1}:\n",
    "        for i in range(0,3):\n",
    "            if name in temp_event[i][0]:\n",
    "                for Index in indexes[name]:\n",
    "                    sta=temp_event[i][1][Index].index[0]\n",
    "                    ena =temp_event[i][1][Index].index[-1]\n",
    "                    el=[(j,x[1],x[2]) for j,x in enumerate(evented_label_1) if x[0]==name]\n",
    "                    for jj,stb,enb in el:\n",
    "                        if has_overlap(sta,ena,stb,enb):\n",
    "                            Done.append((name,jj,Index))\n",
    "\n",
    "print('threshold is : ',threshold)\n",
    "name='curva_direita_agressiva'\n",
    "my_pridict=indexes[name]\n",
    "my_pridict.sort()\n",
    "true_predict=[x[2] for x in Done if x[0]==name]\n",
    "true_predict.sort()\n",
    "print(name)\n",
    "\n",
    "if len(my_pridict) ==0:\n",
    "    acc=0\n",
    "else:\n",
    "    acc=len(true_predict)/len(my_pridict)\n",
    "\n",
    "print('accuracy:',acc,'\\n my predict    ',my_pridict,'\\n true predict :',true_predict)\n",
    "\n",
    "real_index_events=list({x[1] for x in Done if x[0]==name})\n",
    "real_labeled_index_event=[i for i,x in enumerate(evented_label_1) if x[0]==name]\n",
    "\n",
    "print(' comprehensivity accuracy: ',len(real_index_events)/len(real_labeled_index_event),'\\n predicted events:',real_index_events,'\\n real events:     ',real_labeled_index_event)"
   ]
  },
  {
   "cell_type": "code",
   "execution_count": 43,
   "metadata": {},
   "outputs": [
    {
     "name": "stdout",
     "output_type": "stream",
     "text": [
      "threshold is :  0.01\n",
      "curva_esquerda_agressiva\n",
      "accuracy: 0.03180212014134275 \n",
      " my predict     [0, 1, 2, 3, 4, 5, 6, 7, 8, 9, 10, 11, 12, 13, 14, 15, 16, 17, 18, 19, 20, 21, 22, 23, 24, 25, 26, 27, 28, 29, 30, 31, 32, 33, 34, 35, 36, 37, 38, 39, 40, 41, 42, 43, 44, 45, 46, 47, 48, 49, 50, 51, 52, 53, 54, 55, 56, 57, 58, 59, 60, 61, 62, 63, 64, 65, 66, 67, 68, 69, 70, 71, 72, 73, 74, 75, 76, 77, 78, 79, 80, 81, 82, 83, 84, 85, 86, 87, 88, 89, 90, 91, 92, 93, 94, 95, 96, 97, 98, 99, 100, 101, 102, 103, 104, 105, 106, 107, 108, 109, 110, 111, 112, 113, 114, 115, 116, 117, 118, 119, 120, 121, 122, 123, 124, 125, 126, 127, 128, 129, 130, 131, 132, 133, 134, 135, 136, 137, 138, 139, 140, 141, 142, 143, 144, 145, 146, 147, 148, 149, 150, 151, 152, 153, 154, 155, 156, 157, 158, 159, 160, 161, 162, 163, 164, 165, 166, 167, 168, 169, 170, 171, 172, 173, 174, 175, 176, 177, 178, 179, 180, 181, 182, 183, 184, 185, 186, 187, 188, 189, 190, 191, 192, 193, 194, 195, 196, 197, 198, 199, 200, 201, 202, 203, 204, 205, 206, 207, 208, 209, 210, 211, 212, 213, 214, 215, 216, 217, 218, 219, 220, 221, 222, 223, 224, 225, 226, 227, 228, 229, 230, 231, 232, 233, 234, 235, 236, 237, 238, 239, 240, 241, 242, 243, 244, 245, 246, 247, 248, 249, 250, 251, 252, 253, 254, 255, 256, 257, 258, 259, 260, 261, 262, 263, 264, 265, 266, 267, 268, 269, 270, 271, 272, 273, 274, 275, 276, 277, 278, 279, 280, 281, 282, 283, 284, 285, 286, 287, 288, 289, 290, 291, 292, 293, 294, 295, 296, 297, 298, 299, 300, 301, 302, 303, 304, 305, 306, 307, 308, 309, 310, 311, 312, 313, 314, 315, 316, 317, 318, 319, 320, 321, 322, 323, 324, 325, 326, 327, 328, 329, 330, 331, 332, 333, 334, 335, 336, 337, 338, 339, 340, 341, 342, 343, 344, 345, 346, 347, 348, 349, 350, 351, 352, 353, 354, 355, 356, 357, 358, 359, 360, 361, 362, 363, 364, 365, 366, 367, 368, 369, 370, 371, 372, 373, 374, 375, 376, 377, 378, 379, 380, 381, 382, 383, 384, 385, 386, 387, 388, 389, 390, 391, 392, 393, 394, 395, 396, 397, 398, 399, 400, 401, 402, 403, 404, 405, 406, 407, 408, 409, 410, 411, 412, 413, 414, 415, 416, 417, 418, 419, 420, 421, 422, 423, 424, 425, 426, 427, 428, 429, 430, 431, 432, 433, 434, 435, 436, 437, 438, 439, 440, 441, 442, 443, 444, 445, 446, 447, 448, 449, 450, 451, 452, 453, 454, 455, 456, 457, 458, 459, 460, 461, 462, 463, 464, 465, 466, 467, 468, 469, 470, 471, 472, 473, 474, 475, 476, 477, 478, 479, 480, 481, 482, 483, 484, 485, 486, 487, 488, 489, 490, 491, 492, 493, 494, 495, 496, 497, 498, 499, 500, 501, 502, 503, 504, 505, 506, 507, 508, 509, 510, 511, 512, 513, 514, 515, 516, 517, 518, 519, 520, 521, 522, 523, 524, 525, 526, 527, 528, 529, 530, 531, 532, 533, 534, 535, 536, 537, 538, 539, 540, 541, 542, 543, 544, 545, 546, 547, 548, 549, 550, 551, 552, 553, 554, 555, 556, 557, 558, 559, 560, 561, 562, 563, 564, 565, 566, 567, 568, 569, 570, 571, 572, 573, 574, 575, 576, 577, 578, 579, 580, 581, 582, 583, 584, 585, 586, 587, 588, 589, 590, 591, 592, 593, 594, 595, 596, 597, 598, 599, 600, 601, 602, 603, 604, 605, 606, 607, 608, 609, 610, 611, 612, 613, 614, 615, 616, 617, 618, 619, 620, 621, 622, 623, 624, 625, 626, 627, 628, 629, 630, 631, 632, 633, 634, 635, 636, 637, 638, 639, 640, 641, 642, 643, 644, 645, 646, 647, 648, 649, 650, 651, 652, 653, 654, 655, 656, 657, 658, 659, 660, 661, 662, 663, 664, 665, 666, 667, 668, 669, 670, 671, 672, 673, 674, 675, 676, 677, 678, 679, 680, 681, 682, 683, 684, 685, 686, 687, 688, 689, 690, 691, 692, 693, 694, 695, 696, 697, 698, 699, 700, 701, 702, 703, 704, 705, 706, 707, 708, 709, 710, 711, 712, 713, 714, 715, 716, 717, 718, 719, 720, 721, 722, 723, 724, 725, 726, 727, 728, 729, 730, 731, 732, 733, 734, 735, 736, 737, 738, 739, 740, 741, 742, 743, 744, 745, 746, 747, 748, 749, 750, 751, 753, 754, 755, 756, 757, 758, 759, 760, 761, 762, 763, 764, 765, 766, 767, 768, 769, 770, 771, 772, 773, 774, 775, 776, 777, 778, 779, 780, 781, 782, 783, 784, 785, 786, 787, 788, 789, 790, 791, 792, 793, 794, 795, 796, 797, 798, 799, 800, 801, 802, 803, 804, 805, 806, 807, 808, 809, 810, 811, 812, 813, 814, 815, 816, 817, 818, 819, 820, 821, 822, 823, 824, 825, 826, 827, 828, 829, 830, 831, 832, 833, 834, 835, 836, 837, 838, 839, 840, 841, 842, 843, 844, 845, 846, 847, 848, 849, 850, 851, 852, 853, 854, 855, 856, 857, 858, 859, 860, 861, 862, 863, 864, 865, 866, 867, 868, 869, 870, 871, 872, 873, 874, 875, 876, 877, 878, 879, 880, 881, 882, 883, 884, 885, 886, 887, 888, 889, 890, 891, 892, 893, 894, 895, 896, 897, 898, 899, 900, 901, 902, 903, 904, 905, 906, 907, 908, 909, 910, 911, 912, 913, 914, 915, 916, 917, 918, 919, 920, 921, 922, 923, 924, 925, 926, 927, 928, 929, 930, 931, 932, 933, 934, 935, 936, 937, 938, 939, 940, 941, 942, 943, 944, 945, 946, 947, 948, 949, 950, 951, 952, 953, 954, 955, 956, 957, 958, 959, 960, 961, 962, 963, 964, 965, 966, 967, 968, 969, 970, 971, 972, 973, 974, 975, 976, 977, 978, 979, 980, 981, 982, 983, 984, 985, 986, 987, 988, 989, 990, 991, 992, 993, 994, 995, 996, 997, 998, 999, 1000, 1001, 1002, 1003, 1004, 1005, 1006, 1007, 1008, 1009, 1010, 1011, 1012, 1013, 1014, 1015, 1016, 1017, 1018, 1019, 1020, 1021, 1022, 1023, 1024, 1025, 1026, 1027, 1028, 1029, 1030, 1031, 1032, 1033, 1034, 1035, 1036, 1037, 1038, 1039, 1040, 1041, 1042, 1043, 1044, 1045, 1046, 1047, 1048, 1049, 1050, 1051, 1052, 1053, 1054, 1055, 1056, 1057, 1058, 1059, 1060, 1061, 1062, 1063, 1064, 1065, 1066, 1067, 1068, 1069, 1070, 1071, 1072, 1073, 1074, 1075, 1076, 1077, 1078, 1079, 1080, 1081, 1082, 1083, 1084, 1085, 1086, 1087, 1088, 1089, 1090, 1091, 1092, 1093, 1094, 1095, 1096, 1097, 1098, 1099, 1100, 1101, 1102, 1103, 1104, 1105, 1106, 1107, 1108, 1109, 1110, 1111, 1112, 1113, 1114, 1115, 1116, 1117, 1118, 1119, 1120, 1121, 1122, 1123, 1124, 1125, 1126, 1127, 1128, 1129, 1130, 1131, 1132] \n",
      " true predict : [218, 219, 220, 221, 222, 223, 224, 225, 309, 310, 311, 312, 313, 314, 315, 441, 442, 443, 444, 445, 446, 447, 668, 669, 670, 671, 672, 673, 674, 969, 970, 971, 972, 973, 974, 975]\n",
      " comprehensivity accuracy:  1.0 \n",
      " predicted events: [4, 5, 7, 9, 12] \n",
      " real events:      [4, 5, 7, 9, 12]\n"
     ]
    }
   ],
   "source": [
    "threshold=0.01\n",
    "indexes=dict()\n",
    "for name in EVENT_DS:\n",
    "    indexes.update({name:export_relevent_index(name,threshold,window=10)})\n",
    "Done=list()\n",
    "for name in indexes:\n",
    "    if name in {x[0] for x in evented_label_1}:\n",
    "        for i in range(0,3):\n",
    "            if name in temp_event[i][0]:\n",
    "                for Index in indexes[name]:\n",
    "                    sta=temp_event[i][1][Index].index[0]\n",
    "                    ena =temp_event[i][1][Index].index[-1]\n",
    "                    el=[(j,x[1],x[2]) for j,x in enumerate(evented_label_1) if x[0]==name]\n",
    "                    for jj,stb,enb in el:\n",
    "                        if has_overlap(sta,ena,stb,enb):\n",
    "                            Done.append((name,jj,Index))\n",
    "print('threshold is : ',threshold)\n",
    "name='curva_esquerda_agressiva'\n",
    "my_pridict=indexes[name]\n",
    "my_pridict.sort()\n",
    "true_predict=[x[2] for x in Done if x[0]==name]\n",
    "true_predict.sort()\n",
    "print(name)\n",
    "\n",
    "if len(my_pridict) ==0:\n",
    "    acc=0\n",
    "else:\n",
    "    acc=len(true_predict)/len(my_pridict)\n",
    "\n",
    "print('accuracy:',acc,'\\n my predict    ',my_pridict,'\\n true predict :',true_predict)\n",
    "\n",
    "real_index_events=list({x[1] for x in Done if x[0]==name})\n",
    "real_labeled_index_event=[i for i,x in enumerate(evented_label_1) if x[0]==name]\n",
    "\n",
    "print(' comprehensivity accuracy: ',len(real_index_events)/len(real_labeled_index_event),'\\n predicted events:',real_index_events,'\\n real events:     ',real_labeled_index_event)"
   ]
  },
  {
   "cell_type": "code",
   "execution_count": 48,
   "metadata": {},
   "outputs": [
    {
     "name": "stdout",
     "output_type": "stream",
     "text": [
      "threshold is :  0.1\n",
      "troca_faixa_direita_agressiva\n",
      "accuracy: 0.02666666666666667 \n",
      " my predict     [2, 16, 47, 63, 78, 83, 86, 89, 90, 93, 94, 106, 107, 114, 125, 127, 130, 136, 137, 150, 177, 190, 194, 201, 214, 230, 241, 253, 254, 260, 267, 270, 272, 321, 360, 361, 372, 401, 413, 421, 422, 424, 425, 444, 467, 492, 493, 500, 502, 522, 552, 558, 561, 564, 569, 576, 589, 591, 593, 594, 649, 657, 660, 679, 703, 707, 715, 716, 723, 731, 771, 774, 782, 784, 787] \n",
      " true predict : [715, 716]\n",
      " comprehensivity accuracy:  0.3333333333333333 \n",
      " predicted events: [13] \n",
      " real events:      [13, 14, 15]\n"
     ]
    }
   ],
   "source": [
    "threshold=0.1\n",
    "indexes=dict()\n",
    "for name in EVENT_DS:\n",
    "    indexes.update({name:export_relevent_index(name,threshold,window=10)})\n",
    "Done=list()\n",
    "for name in indexes:\n",
    "    if name in {x[0] for x in evented_label_1}:\n",
    "        for i in range(0,3):\n",
    "            if name in temp_event[i][0]:\n",
    "                for Index in indexes[name]:\n",
    "                    sta=temp_event[i][1][Index].index[0]\n",
    "                    ena =temp_event[i][1][Index].index[-1]\n",
    "                    el=[(j,x[1],x[2]) for j,x in enumerate(evented_label_1) if x[0]==name]\n",
    "                    for jj,stb,enb in el:\n",
    "                        if has_overlap(sta,ena,stb,enb):\n",
    "                            Done.append((name,jj,Index))\n",
    "print('threshold is : ',threshold)\n",
    "name='troca_faixa_direita_agressiva'\n",
    "my_pridict=indexes[name]\n",
    "my_pridict.sort()\n",
    "true_predict=[x[2] for x in Done if x[0]==name]\n",
    "true_predict.sort()\n",
    "print(name)\n",
    "print('accuracy:',len(true_predict)/len(my_pridict),'\\n my predict    ',my_pridict,'\\n true predict :',true_predict)\n",
    "\n",
    "real_index_events=list({x[1] for x in Done if x[0]==name})\n",
    "real_labeled_index_event=[i for i,x in enumerate(evented_label_1) if x[0]==name]\n",
    "\n",
    "print(' comprehensivity accuracy: ',len(real_index_events)/len(real_labeled_index_event),'\\n predicted events:',real_index_events,'\\n real events:     ',real_labeled_index_event)"
   ]
  },
  {
   "cell_type": "code",
   "execution_count": null,
   "metadata": {},
   "outputs": [],
   "source": [
    "import winsound\n",
    "def end ():\n",
    "    for i in range (3):\n",
    "        frequency = 2500  # Set Frequency To 2500 Hertz\n",
    "        duration = 500  # Set Duration To 1000 ms == 1 second\n",
    "        winsound.Beep(frequency, duration)\n",
    "        frequency = 500  # Set Frequency To 2500 Hertz\n",
    "        duration = 500  # Set Duration To 1000 ms == 1 second\n",
    "        winsound.Beep(frequency, duration)\n",
    "        frequency = 1000  # Set Frequency To 2500 Hertz\n",
    "        duration = 500  # Set Duration To 1000 ms == 1 second\n",
    "        winsound.Beep(frequency, duration)\n",
    "    frequency = 1000  # Set Frequency To 2500 Hertz\n",
    "    duration = 5000  # Set Duration To 1000 ms == 1 second\n",
    "    winsound.Beep(frequency, duration)\n",
    "end()"
   ]
  },
  {
   "cell_type": "code",
   "execution_count": null,
   "metadata": {},
   "outputs": [],
   "source": []
  }
 ],
 "metadata": {
  "kernelspec": {
   "display_name": "Python 3",
   "language": "python",
   "name": "python3"
  },
  "language_info": {
   "codemirror_mode": {
    "name": "ipython",
    "version": 3
   },
   "file_extension": ".py",
   "mimetype": "text/x-python",
   "name": "python",
   "nbconvert_exporter": "python",
   "pygments_lexer": "ipython3",
   "version": "3.7.6"
  }
 },
 "nbformat": 4,
 "nbformat_minor": 4
}
